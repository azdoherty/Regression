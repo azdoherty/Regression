{
 "cells": [
  {
   "cell_type": "code",
   "execution_count": 44,
   "metadata": {},
   "outputs": [],
   "source": [
    "import matplotlib.pyplot as plt\n",
    "import seaborn as sns; sns.set()\n",
    "import numpy as np\n",
    "import pandas as pd\n",
    "import statsmodels.api as sm\n",
    "import math\n",
    "from sklearn import datasets, linear_model\n",
    "from sklearn.metrics import mean_squared_error, r2_score\n",
    "from sklearn.feature_selection import f_regression\n",
    "from sklearn.cross_validation import cross_val_score, cross_val_predict"
   ]
  },
  {
   "cell_type": "code",
   "execution_count": null,
   "metadata": {},
   "outputs": [],
   "source": [
    "diabetes = datasets.load_diabetes()"
   ]
  },
  {
   "cell_type": "code",
   "execution_count": null,
   "metadata": {},
   "outputs": [
    {
     "name": "stdout",
     "output_type": "stream",
     "text": [
      "(442, 10)\n"
     ]
    },
    {
     "data": {
      "text/plain": [
       "<seaborn.axisgrid.PairGrid at 0x1a9982fb2b0>"
      ]
     },
     "execution_count": 46,
     "metadata": {},
     "output_type": "execute_result"
    }
   ],
   "source": [
    "# View dict elements\n",
    "diabetes.keys()\n",
    "\n",
    "# View Data\n",
    "print(diabetes.data.shape)\n",
    "col_names = \"age sex bmi map tc ldl hdl tch ltg glu\".split()\n",
    "data_frame = pd.DataFrame(diabetes.data, columns=col_names)\n",
    "y = diabetes.target\n",
    "sns.pairplot(data_frame)"
   ]
  },
  {
   "cell_type": "code",
   "execution_count": null,
   "metadata": {},
   "outputs": [],
   "source": [
    "# Check for extreme/suspicious values\n",
    "for col_name in col_names:\n",
    "    print(col_name,\":\",min(data_frame[col_name]),np.percentile(data_frame[col_name], \n",
    "        [25, 50, 75]),max(data_frame[col_name]))"
   ]
  },
  {
   "cell_type": "code",
   "execution_count": null,
   "metadata": {},
   "outputs": [],
   "source": [
    "regr = linear_model.LinearRegression()\n",
    "\n",
    "# LOO Cross-Validation \n",
    "scores = cross_val_score(regr, data_frame, y, cv=5)\n",
    "print(scores)"
   ]
  },
  {
   "cell_type": "markdown",
   "metadata": {},
   "source": [
    "First try LOO Cross-Validation using all possible models with 1, 2, 3, 4, 5, 6, 7, 8, 9, 10 variables. For each run, calculate $$RMSE = \\sqrt{\\frac{1}{n}\\sum \\limits_{i=1}^n (y_i - \\widehat{y}_{(-i)})^2}$$\n",
    "\n",
    "Then try a forward selection algorithm and see what it picks. Use the AIC criterion (or BIC).\n",
    "\n",
    "If time try LASSO for variable selection"
   ]
  },
  {
   "cell_type": "code",
   "execution_count": null,
   "metadata": {},
   "outputs": [],
   "source": [
    "import itertools\n",
    "from sklearn.model_selection import LeaveOneOut\n",
    "\n",
    "\n",
    "def looRMSE(X, y):\n",
    "    loo = LeaveOneOut()\n",
    "    rmse = 0\n",
    "    for train, test in loo.split(X):\n",
    "        regr = linear_model.LinearRegression()\n",
    "        regr.fit(X[train], y[train])\n",
    "        rmse += (regr.predict(X[test])[0] - y[test][0])**2\n",
    "        \n",
    "    rmse = np.sqrt(rmse/(X.shape[0]))\n",
    "    return rmse    \n",
    "        \n",
    "     \n",
    "tested = []\n",
    "result = []\n",
    "for i in range(len(col_names)):\n",
    "    for j in range(1, i + 1):\n",
    "        testCombos = itertools.combinations(np.arange(i), j)\n",
    "        for c in testCombos:\n",
    "            if set(c) in tested:\n",
    "                continue\n",
    "            tested.append(set(c))\n",
    "            testSet = data_frame.values[:, c]\n",
    "            result.append(looRMSE(testSet, y))\n",
    "            print(\"{}, {}\".format(set(c), result[-1]))\n",
    "result = np.array(result)\n",
    "print(\"{:.2f}, {}\".format(result.min(), tested[result.argmin()]))\n",
    "        \n",
    "    \n",
    "    \n",
    "        "
   ]
  },
  {
   "cell_type": "code",
   "execution_count": null,
   "metadata": {},
   "outputs": [],
   "source": [
    "# Forward selection with AIC criterion\n",
    "from sklearn.metrics import mean_squared_error\n",
    "from scipy.stats import norm\n",
    "\n",
    "class ForwardSelector:\n",
    "    def __init__(self, X, y):\n",
    "        self.X = X\n",
    "        self.y = y\n",
    "        self.used = np.zeros((X.shape[1])) # variables used in model, start with none\n",
    "\n",
    "    def calculate_aic(self, y, yhat, k):\n",
    "        e = 1./(y.shape[0] - (k+1)) * np.sum((y - yhat)**2)\n",
    "        \n",
    "        g = norm.pdf(y, yhat, np.sqrt(e))\n",
    "        N = np.sum(np.log(g))\n",
    "        \n",
    "        aic = 2*(k + 1) - 2*N\n",
    "        return aic\n",
    "\n",
    "    def forward_select(self):\n",
    "        current_best = np.iinfo(np.uint64).max\n",
    "        new_best = current_best - 1\n",
    "        \n",
    "        while new_best < current_best:\n",
    "            current_best = new_best\n",
    "            candidate_scores = np.empty((self.X.shape[1]))\n",
    "            print(current_best)\n",
    "            for i in range(self.X.shape[1]):\n",
    "                if self.used[i] == 1:\n",
    "                    continue\n",
    "                candidate_model = np.zeros((self.X.shape[1]))\n",
    "                candidate_model[self.used==1] = 1\n",
    "                candidate_model[i] = 1\n",
    "                dset = self.X[:, candidate_model==1]\n",
    "                regr = linear_model.LinearRegression()\n",
    "                regr.fit(dset, self.y)\n",
    "                yhat = regr.predict(dset)\n",
    "                candidate_scores[i] = self.calculate_aic(self.y, yhat, np.sum(candidate_model))\n",
    "            new_best = np.min(candidate_scores)\n",
    "            if new_best < current_best:\n",
    "                self.used[np.argmin(candidate_scores)] = 1\n",
    "                \n",
    "                \n",
    "fs = ForwardSelector(data_frame.values, y)\n",
    "fs.forward_select()\n",
    "print(fs.used)\n",
    "\n",
    "        \n",
    "        "
   ]
  },
  {
   "cell_type": "code",
   "execution_count": null,
   "metadata": {},
   "outputs": [],
   "source": [
    "# View histogram of outcome variable\n",
    "plt.hist(np.sqrt(y_train))"
   ]
  },
  {
   "cell_type": "code",
   "execution_count": null,
   "metadata": {},
   "outputs": [],
   "source": [
    "regr = linear_model.LinearRegression()\n",
    "regr.fit(diabetes_X_train, diabetes_y_train)"
   ]
  },
  {
   "cell_type": "code",
   "execution_count": null,
   "metadata": {},
   "outputs": [],
   "source": [
    "data_frame.shape[0]"
   ]
  },
  {
   "cell_type": "code",
   "execution_count": null,
   "metadata": {},
   "outputs": [],
   "source": [
    "y"
   ]
  },
  {
   "cell_type": "code",
   "execution_count": null,
   "metadata": {},
   "outputs": [],
   "source": []
  }
 ],
 "metadata": {
  "kernelspec": {
   "display_name": "Python 3",
   "language": "python",
   "name": "python3"
  },
  "language_info": {
   "codemirror_mode": {
    "name": "ipython",
    "version": 3
   },
   "file_extension": ".py",
   "mimetype": "text/x-python",
   "name": "python",
   "nbconvert_exporter": "python",
   "pygments_lexer": "ipython3",
   "version": "3.6.4"
  }
 },
 "nbformat": 4,
 "nbformat_minor": 2
}
